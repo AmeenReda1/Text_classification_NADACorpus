{
  "nbformat": 4,
  "nbformat_minor": 0,
  "metadata": {
    "colab": {
      "name": "Text_Classification_NADACorpus",
      "provenance": [],
      "include_colab_link": true
    },
    "kernelspec": {
      "name": "python3",
      "display_name": "Python 3"
    },
    "language_info": {
      "name": "python"
    }
  },
  "cells": [
    {
      "cell_type": "markdown",
      "metadata": {
        "id": "view-in-github",
        "colab_type": "text"
      },
      "source": [
        "<a href=\"https://colab.research.google.com/github/AmeenReda1/Text_classification_NADACorpus/blob/main/Text_Classification_NADACorpus.ipynb\" target=\"_parent\"><img src=\"https://colab.research.google.com/assets/colab-badge.svg\" alt=\"Open In Colab\"/></a>"
      ]
    },
    {
      "cell_type": "markdown",
      "source": [
        "# Import Libraries"
      ],
      "metadata": {
        "id": "wJmWvWnUzgeR"
      }
    },
    {
      "cell_type": "code",
      "metadata": {
        "id": "CV22VM2WjNGa"
      },
      "source": [
        "import pandas as pd\n",
        "from nltk.corpus import stopwords\n",
        "from nltk.tokenize import word_tokenize\n",
        "from sklearn.feature_extraction.text import TfidfVectorizer\n",
        "from sklearn.model_selection import train_test_split\n",
        "from sklearn import svm,preprocessing,metrics\n",
        "!pip install nltk\n",
        "import nltk\n",
        "from nltk import word_tokenize\n",
        "from nltk.stem.isri import ISRIStemmer\n",
        "st = ISRIStemmer()\n",
        "from nltk.corpus import stopwords\n",
        "nltk.download('stopwords')\n",
        "dataFrame=pd.read_csv('/content/drive/MyDrive/Sampled_File_with_SMOTE.csv')\n",
        "stop=stopwords.words('arabic')\n",
        "print(stop)"
      ],
      "execution_count": null,
      "outputs": []
    },
    {
      "cell_type": "markdown",
      "source": [
        "# Cleaning function with Regex"
      ],
      "metadata": {
        "id": "iVpBGmSzzlwb"
      }
    },
    {
      "cell_type": "code",
      "source": [
        "def clean(text):\n",
        "  #remove all English chars \n",
        "  text = re.sub(r'\\s*[A-Za-z]\\s*', ' ' , text)\n",
        "  #remove hashtags\n",
        "  text = re.sub(\"#\", \" \", text)\n",
        "  #remove all numbers \n",
        "  text = re.sub(r'\\[0-9]*\\]',' ',text)\n",
        "  #remove duplicated chars\n",
        "  text = re.sub(r'(.)\\1+', r'\\1', text)\n",
        "  #remove :) or :(\n",
        "  text = text.replace(':)', \"\")\n",
        "  text = text.replace(':(', \"\")\n",
        "  #remove multiple exclamation\n",
        "  text = re.sub(r\"(\\!)\\1+\", ' ', text)\n",
        "  #remove multiple question marks\n",
        "  text = re.sub(r\"(\\?)\\1+\", ' ', text)\n",
        "  #remove multistop\n",
        "  text = re.sub(r\"(\\.)\\1+\", ' ', text)\n",
        "  #remove additional spaces\n",
        "  text = re.sub(r\"[\\s]+\", \" \", text)\n",
        "  text = re.sub(r\"[\\n]+\", \" \", text)\n",
        "  \n",
        "  return text"
      ],
      "metadata": {
        "id": "ByBVxekccAj6"
      },
      "execution_count": null,
      "outputs": []
    },
    {
      "cell_type": "markdown",
      "source": [
        "# Apply Some function on the data"
      ],
      "metadata": {
        "id": "gBrTuI-8zuTc"
      }
    },
    {
      "cell_type": "code",
      "source": [
        "# 1) remove stop words\n",
        "# 2) apply clean function\n",
        "# 3) apply steming on the data\n",
        "stopWordsList = stopwords.words('arabic')\n",
        "dataFrame['text']=dataFrame['text'].apply(lambda line: \" \".join(word for word in line.split() if word not in stop))\n",
        "dataFrame['text'] = dataFrame['text'].apply(lambda x : clean(x))\n",
        "dataFrame['text']=dataFrame['text'].apply(lambda line: \" \".join(st.stem(word) for word in line.split()))"
      ],
      "metadata": {
        "id": "fBKYObfJcQg-",
        "outputId": "2c17cc1e-8b48-4056-ec53-f053b263b41e",
        "colab": {
          "base_uri": "https://localhost:8080/"
        }
      },
      "execution_count": null,
      "outputs": [
        {
          "output_type": "stream",
          "name": "stdout",
          "text": [
            "0    'غلب اصل عمل قرب رحب خصر لدن نخل تد قرب حصل فا...\n",
            "1    'اضاف اخر بنك دول مال رئس عمل قلص افق قاذ تحر ...\n",
            "2    'مستقر ضفت اخر دول تفق عمل قلص افق قاذ رحب كبر...\n",
            "3    'اوسط سرق بنك عما تحد خبر لمل فضل سير راديو اخ...\n",
            "4    'اوسط اطل عما تحد بان خبر لمل عمل راديو اخر خت...\n",
            "Name: text, dtype: object\n"
          ]
        }
      ]
    },
    {
      "cell_type": "markdown",
      "source": [
        "#  Remove dublicates"
      ],
      "metadata": {
        "id": "fC-FcI0-cZkH"
      }
    },
    {
      "cell_type": "code",
      "metadata": {
        "id": "XFwKrhZVkJ4L",
        "colab": {
          "base_uri": "https://localhost:8080/"
        },
        "outputId": "6bf4ce97-14b7-4e5c-db00-e3ee00dcdae7"
      },
      "source": [
        "print(dataFrame.head())\n",
        "print(len(dataFrame['text']))\n",
        "dataFrame.drop_duplicates(subset =\"text\",\n",
        "                     keep = 'first', inplace = True)\n",
        "print(len(dataFrame['text']))\n"
      ],
      "execution_count": null,
      "outputs": [
        {
          "output_type": "stream",
          "name": "stdout",
          "text": [
            "                                                text                     class\n",
            "0  'غلب اصل عمل قرب رحب خصر لدن نخل تد قرب حصل فا...  'الإقتصاد-علوم اجتماعية'\n",
            "1  'اضاف اخر بنك دول مال رئس عمل قلص افق قاذ تحر ...  'الإقتصاد-علوم اجتماعية'\n",
            "2  'مستقر ضفت اخر دول تفق عمل قلص افق قاذ رحب كبر...  'الإقتصاد-علوم اجتماعية'\n",
            "3  'اوسط سرق بنك عما تحد خبر لمل فضل سير راديو اخ...  'الإقتصاد-علوم اجتماعية'\n",
            "4  'اوسط اطل عما تحد بان خبر لمل عمل راديو اخر خت...  'الإقتصاد-علوم اجتماعية'\n",
            "5745\n",
            "5745\n"
          ]
        }
      ]
    },
    {
      "cell_type": "markdown",
      "source": [
        "# word Embedding with Tf-idf"
      ],
      "metadata": {
        "id": "zGviXa7p0GkG"
      }
    },
    {
      "cell_type": "code",
      "metadata": {
        "id": "_FpHx97akNlv",
        "colab": {
          "base_uri": "https://localhost:8080/"
        },
        "outputId": "9bd250c9-b9d2-435d-c8fe-898dd3f59571"
      },
      "source": [
        "train_x, valid_x, train_y, valid_y = train_test_split(dataFrame['text'], dataFrame['class'],test_size=0.2,random_state=11)\n",
        "print(len(set(train_y)))\n",
        "print(len(set(valid_y)))\n",
        "before_encode_valid_y=dataFrame['class'].unique()\n",
        "print('before_encode: ',before_encode_valid_y)\n",
        "# TFIDF feature generation for a maximum of 5000 features\n",
        "print(\"vaild X\",valid_x.head())\n",
        "print(\"vaild X\",valid_y.head())\n",
        "encoder = preprocessing.LabelEncoder()\n",
        "train_y = encoder.fit_transform(train_y)\n",
        "valid_y = encoder.fit_transform(valid_y)\n",
        "tfidf_vect = TfidfVectorizer(analyzer='word',token_pattern=r'\\w{1,}', max_features=5000)\n",
        "print(tfidf_vect)\n",
        "tfidf_vect.fit(dataFrame['text'])\n",
        "xtrain_tfidf = tfidf_vect.transform(train_x)\n",
        "xvalid_tfidf = tfidf_vect.transform(valid_x)\n",
        "print(xtrain_tfidf.data)"
      ],
      "execution_count": null,
      "outputs": [
        {
          "output_type": "stream",
          "name": "stdout",
          "text": [
            "10\n",
            "10\n",
            "before_encode:  [\"'الإقتصاد-علوم اجتماعية'\" \"'الأدب العربي-أدبيات'\" 'رياضة'\n",
            " \"'علوم صحية-علوم تطبيقية'\" \"'السياسة-علوم اجتماعية'\"\n",
            " \"'القانون-علوم اجتماعية'\" 'عام-اسلام-ديانات' \"'علم الكمبيوتر-علوم بحتة'\"\n",
            " \"'عام- فنون'\" \"'فلك-علوم بحتة'\"]\n",
            "vaild X 4026    'يستعد فن فاد دروس طلق بوم قرب خرج ستر كاديم س...\n",
            "1268    'يم قول بان صندوق نقد انت ظيف عام وقف حكم امر ...\n",
            "614     'استخدام قئم دب تقت جلز ادئ محل وير خط لفت رحل...\n",
            "800     'اوسط توج عطل خسر عكس رئس سوق بدا عمل كتوبر را...\n",
            "2360    'عقد لجن فن بطل نخب خلج لمب قام حال قطر جمع حد...\n",
            "Name: text, dtype: object\n",
            "vaild X 4026                 'عام- فنون'\n",
            "1268    'الإقتصاد-علوم اجتماعية'\n",
            "614     'الإقتصاد-علوم اجتماعية'\n",
            "800     'الإقتصاد-علوم اجتماعية'\n",
            "2360                       رياضة\n",
            "Name: class, dtype: object\n",
            "TfidfVectorizer(max_features=5000, token_pattern='\\\\w{1,}')\n",
            "[0.03816784 0.04793851 0.07045268 ... 0.04032139 0.02154145 0.03207037]\n"
          ]
        }
      ]
    },
    {
      "cell_type": "markdown",
      "source": [
        "# Train model function"
      ],
      "metadata": {
        "id": "yt6eWKX50LDD"
      }
    },
    {
      "cell_type": "code",
      "metadata": {
        "id": "qmsBVwGokQrx"
      },
      "source": [
        "def train_model(classifier, feature_vector_train, label,feature_vector_valid, is_neural_net=False):\n",
        "    # fit the training dataset on the classifier\n",
        "    classifier.fit(feature_vector_train, label)\n",
        "    # predict the labels on validation dataset\n",
        "    predictions = classifier.predict(feature_vector_valid)\n",
        "    return metrics.accuracy_score(predictions, valid_y),predictions"
      ],
      "execution_count": null,
      "outputs": []
    },
    {
      "cell_type": "markdown",
      "source": [
        "#SVM Model"
      ],
      "metadata": {
        "id": "iafk8R_9XJ33"
      }
    },
    {
      "cell_type": "code",
      "metadata": {
        "id": "v2NvOFoNkTx9",
        "colab": {
          "base_uri": "https://localhost:8080/"
        },
        "outputId": "cf75442b-262d-4965-dcea-07a669f79883"
      },
      "source": [
        "clf_svm = svm.SVC(kernel='linear')\n",
        "#train_model\n",
        "accuracy,predictions=train_model(clf_svm,xtrain_tfidf, train_y, xvalid_tfidf)\n",
        "print(\"accuracy: \",accuracy*100)"
      ],
      "execution_count": null,
      "outputs": [
        {
          "output_type": "stream",
          "name": "stdout",
          "text": [
            "accuracy:  97.56309834638816\n"
          ]
        }
      ]
    },
    {
      "cell_type": "code",
      "source": [
        "from sklearn.metrics import classification_report,confusion_matrix\n",
        "print(classification_report(valid_y,predictions))"
      ],
      "metadata": {
        "id": "fzYK488yZ0YP",
        "outputId": "3679cf43-329e-4aac-eaa7-bfdfe1d6a629",
        "colab": {
          "base_uri": "https://localhost:8080/"
        }
      },
      "execution_count": null,
      "outputs": [
        {
          "output_type": "stream",
          "name": "stdout",
          "text": [
            "              precision    recall  f1-score   support\n",
            "\n",
            "           0       0.97      0.97      0.97        58\n",
            "           1       0.97      0.99      0.98       275\n",
            "           2       1.00      0.73      0.85        30\n",
            "           3       0.95      0.99      0.97       253\n",
            "           4       1.00      1.00      1.00        54\n",
            "           5       0.97      0.95      0.96        64\n",
            "           6       0.98      1.00      0.99        62\n",
            "           7       1.00      1.00      1.00        50\n",
            "           8       1.00      0.99      1.00       198\n",
            "           9       0.97      0.93      0.95       105\n",
            "\n",
            "    accuracy                           0.98      1149\n",
            "   macro avg       0.98      0.96      0.97      1149\n",
            "weighted avg       0.98      0.98      0.98      1149\n",
            "\n"
          ]
        }
      ]
    },
    {
      "cell_type": "markdown",
      "source": [
        "#KNN model"
      ],
      "metadata": {
        "id": "yLghZQPiX3IX"
      }
    },
    {
      "cell_type": "code",
      "source": [
        "from sklearn.neighbors import KNeighborsClassifier\n",
        "\n",
        "knn_model = KNeighborsClassifier(n_neighbors=3)\n",
        "\n",
        "accuracy,predictions=train_model(knn_model,xtrain_tfidf,train_y,xvalid_tfidf)\n",
        "print(\"KNN accuracy: \",accuracy*100)"
      ],
      "metadata": {
        "id": "No645vTGXSGD",
        "outputId": "5ca19154-e4a8-4769-b608-3dfc3d17e49a",
        "colab": {
          "base_uri": "https://localhost:8080/"
        }
      },
      "execution_count": null,
      "outputs": [
        {
          "output_type": "stream",
          "name": "stdout",
          "text": [
            "KNN accuracy:  93.73368146214099\n"
          ]
        }
      ]
    },
    {
      "cell_type": "code",
      "metadata": {
        "id": "4Hns-gzgkYeE",
        "colab": {
          "base_uri": "https://localhost:8080/"
        },
        "outputId": "aa49aceb-66e5-4fb5-c169-67cb80014731"
      },
      "source": [
        "from sklearn.metrics import classification_report,confusion_matrix\n",
        "print(classification_report(valid_y,predictions))"
      ],
      "execution_count": null,
      "outputs": [
        {
          "output_type": "stream",
          "name": "stdout",
          "text": [
            "              precision    recall  f1-score   support\n",
            "\n",
            "           0       0.82      0.95      0.88        58\n",
            "           1       0.94      0.96      0.95       275\n",
            "           2       0.86      0.63      0.73        30\n",
            "           3       0.90      0.98      0.94       253\n",
            "           4       0.96      0.98      0.97        54\n",
            "           5       0.90      0.88      0.89        64\n",
            "           6       1.00      0.98      0.99        62\n",
            "           7       0.94      1.00      0.97        50\n",
            "           8       0.99      0.96      0.98       198\n",
            "           9       0.98      0.76      0.86       105\n",
            "\n",
            "    accuracy                           0.94      1149\n",
            "   macro avg       0.93      0.91      0.92      1149\n",
            "weighted avg       0.94      0.94      0.94      1149\n",
            "\n"
          ]
        }
      ]
    },
    {
      "cell_type": "markdown",
      "source": [
        "#try our model after training"
      ],
      "metadata": {
        "id": "K1dVUG-va5Al"
      }
    },
    {
      "cell_type": "code",
      "metadata": {
        "colab": {
          "base_uri": "https://localhost:8080/"
        },
        "id": "lZMLjGjoNiq8",
        "outputId": "7285639f-e583-455a-8156-35da2c81b557"
      },
      "source": [
        "import re\n",
        "import string\n",
        "thesample1='بورصة مصر تهبط بخسائر سوقية 27 مليار جنيه بضغط مخاوف الضريبة وسط مطالب بالإلغاء'\n",
        "thesample2='يتوقع علماء الفلك لمولود برج الميزان ، خلال الفترة المقبلة، أن يتعرض لمكيدة في العمل من جانب زميل له يشعر بالغيرة تجاهه ويريد ان يخرب علاقته بمديره، لكن سرعان ما تنكشف الأمور'\n",
        "thesample3='موقع الكون - المجموعة الشمسية - حلقات زحل عودة للصفحة الرئيسية - سجل الزوار المجموعة الشمسية - الكواكب وتوابعها - حلقات زحل عودة إلى زحل إضغط على الصورة للتكبير حلقات زحل مع بعض أقماره v حلقات زحل المميزة لهذا الكوكب الجميل بعضها رقيق جدا، مع أن قطرها حوالي 250,000 كيلومتر أو أكثر فهي أقل في السمك من الكيلومتر الواحد في بعض الحلقات وتبلغ سمك بعضها الاخر حوالي 10 كيلومتر ، على الرغم من شكلها الرائع، فإن هناك القليل جدا من المواد فيها، وإذا ضغطت هذه الحلقات في جسم واحد سوف تكون جسم لا يتعدى حجمه أكثر من 100 كيلومتر، ذرات الحلقة هي من الثلج المائي، أو ربما تتكون من ذرات صخرية يغلفها الثلج. أوضحت الصور الملتقطة لحلقات زحلِ انها مكونة من مئات آلالاف من الحلقات، وكذلك مناطقِ الفجوات بين الحلقات تحتوي أيضا على حلقات أضعف. كما ةتشير الدلائل على أن تلك الحلقات هي من جزيئات التي في الغالب من بلورات الثلجِ، وبأحجام قد تكون كبيرة بالأمتار أو صغيرة بالسنتيمترات، أما الكتلة الكلية للحلقات فهي تقدر بكتلة قمر متوسط الحجم. نشؤء الحلقة أصل حلقات زحل مجهولة، مع أنه من الممكن أنها تكونت مع تكون الكوكب نفسه، او ربما انها كانت قمرا ثم أنفجر وتفتت بفعل جاذبية زحل وجذب ذلك الكوكب بقايا الانفجار لتدور في فلكه ، وهناك رأي أخر يقول ان الحلقات ما هي إلا مواد من أقمار زحل نفسه جذبها الكوكب، وأنظمة الحلقة غير مستقرة وهي تتجدد بإستمرار بتأثير العمليات المستمرة، اما المجموعة الحالية للحلقات يحتمل أن تكون بعمر فقط بضعة مئات الملايين من السنين. كان من المتوقع أن الإصطدامات التي تحدث بين جزيئات او مكونات الحلقة هي التي تؤثر على شكل الحلقة. لكن الرحلات الفضائية اوضحت عاملا أخر يؤثر على شكل وترتيب الحلقات وهو عامل التنافر في الشحنات الكهربائية التي تشحن الجزيئات إلى جانب عامل القوة الجذبية . كما اوضحت الاكتشافات التي تمت من خلال رحلة فواجير أن الحلقات ليس من الضروري ان تكون دائرية، كما اكتشف أن الحلقة الخارجيةَ لحلقة ظلت في مكانها بالتفاعل التجاذبي من قمرين صغيرين يقع احدهما داخل الحلقة والاخر خارجها. ترتيب الحلقات تتكون حلقات كوكب زحلِ من خمس حلقات رئيسيةِ هي: G و F و A و B و C مرتبة من الخارج إلى الداخل (في الواقع هذه التقسيماتِ الرئيسيةِ مقسمة إلى آلافِ الحلقات الفرديةِ). الحلقات F و G حلقات رقيقة وصعبة الرؤية، بينما الحلقات الاخرى A و B و C حلقات واسعة وسهلة الرؤية. الفجوة الكبيرة بين الحلقة A و B تسمى قسم كاسيني. الإسم المسافة (كيلومتر) العرض (كم) السمك (كم) البداية النهاية D 66,000 73,150 7,150 C 74,500 92,000 17,500 فاصل ماكسويل ( Maxwell ) 87,500 88,000 500 B 92,000 117,500 25,500 0.1 - 1 قسم كاسيني (Cassini Div) 117,500 122,200 4,700 فاصل فاصل هويجنز ( Huygens ) 117,680 285-440 فاصل فرعي A 122,200 136,800 14,600 0.1 - 1 فاصل إنكي ( Encke ) 133,410 133,740 330 فاصل كيلر ( Keeler ) 136,510 136,550 40 F 140,210 30-500 G 165,800 173,800 8,000 100-1,000 E 180,000 480,000 300,000 1,000 وقد رصد العلماء انفجارا لأوكسجين ذري حول الكوكب، ويدلل ذلك على ان حلقات الكوكب من الممكن أن تتآكل وعلى ذلك يمكن لهذه الحلقات ان تندثر في غضون مئة مليون عام. ويفسر العلماء ان هذا الاوكسجين الذري يشير على وقوع تصادم بين الجسيمات في احدى حلقات الكوكب والتي تتألف من الثلج في معظمها ومن الممكن ان الغاز قد انبعث منها أثناء انشطارها نتيجة التصادم. الحلقة E والتي هي أبعد حلقات زحل وهي حلقة عريضة جدا لكنها ذات إضاءة خافتة تتكون من مواد دقيقة الحجم من الثلج والتراب، تبدأ من مدار القمر ميماس Mimas وتنتهي تقريبا حول مدار القمر ريا Rhea. alnomrosi.net 2005-2006 حقوق النشر متاحة للجميع بشرط ذكر المصدر'\n",
        "thesample='كوكب عطارد من أصغر الكواكب'\n",
        "thesample5='بعد التحقيق مع المجرم المتهم في قتل كل فريقة بمشروع التخرج بسبب كثرة ساعات المزاكرة تم الحكم علية بعشر سنوات من التفاهة'\n",
        "thesample6='هي علاقة السلطة بالمؤسسات، أو علاقة النفوذ في المؤسسات، وتلك العلاقات التي سوف تتم ترجمتها وتحويلها بإعتبرات بيستمولوجية. وتحدث عن مثال لذلك في فرنسا حول العلاقة بين العلوم السياسية والقانونية، فالقانون السياسي أو علم السياسة الفرنسي تطور أولاً في كلية الحقوق، فهناك دائرة القانون العام والعلوم السياسية، وفي لحظة ما من تطور العلوم السياسية أرادت تلك العلوم أن تستقل عن القانون، وبالتالي نشأت علاقات قوة متجاذبة بين دائرة أو كلية الحقوق وبين كلية العلوم السياسية، العلم السياسي أوجد لنفسه مؤسسته الخاصة ومهنته الخاصة بشكل مستقل عن كلية الحقوق، وهذه علاقات القوة تحولت ولكي \"تتحرر\" العلوم السياسية طوّرت تحليلاً للقانون على أنه مادة ليست بذات أهمية، فإن القانون لا يتطرق للمجتمع ولا يتحدث عن السياس'\n",
        "def clean_samples(text):\n",
        "  pattern = r'[0-9]'\n",
        "  pattern2='r[^\\w\\s]'\n",
        "# Match all digits in the string and replace them with an empty string\n",
        "  new_string = re.sub(r'[0-9]', '', text)\n",
        "  new_string=re.sub(r'[^\\w\\s]','',new_string)\n",
        "  new_string = \"\".join([char for char in new_string if char not in string.ascii_letters]).strip()\n",
        "  return new_string.strip()\n",
        "text_clean=clean_samples(thesample)\n",
        "print(text_clean)"
      ],
      "execution_count": null,
      "outputs": [
        {
          "output_type": "stream",
          "name": "stdout",
          "text": [
            "كوكب عطارد من أصغر الكواكب\n"
          ]
        }
      ]
    },
    {
      "cell_type": "code",
      "metadata": {
        "id": "XY9M9452VSec"
      },
      "source": [
        "import numpy as np\n",
        "def convert_sample_to_numbers(text):\n",
        "  text_result=tfidf_vect.transform([text])\n",
        "  return text_result\n",
        "test=convert_sample_to_numbers(text_clean)\n",
        "#tokens=convert_sample_to_numbers(thesample)\n",
        "\n",
        "#c=clf.predict(np.array(tokens[-1]))    "
      ],
      "execution_count": null,
      "outputs": []
    },
    {
      "cell_type": "code",
      "metadata": {
        "id": "XCfm43xeZMN6",
        "outputId": "0fc6b4cc-8dab-43ba-f793-b40cc0ee4c2b",
        "colab": {
          "base_uri": "https://localhost:8080/"
        }
      },
      "source": [
        "print(encoder.inverse_transform(clf_svm.predict(test)))\n"
      ],
      "execution_count": null,
      "outputs": [
        {
          "output_type": "stream",
          "name": "stdout",
          "text": [
            "[\"'فلك-علوم بحتة'\"]\n"
          ]
        }
      ]
    }
  ]
}